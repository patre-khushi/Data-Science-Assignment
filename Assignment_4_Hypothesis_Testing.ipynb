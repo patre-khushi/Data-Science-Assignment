{
  "nbformat": 4,
  "nbformat_minor": 0,
  "metadata": {
    "colab": {
      "provenance": []
    },
    "kernelspec": {
      "name": "python3",
      "display_name": "Python 3"
    },
    "language_info": {
      "name": "python"
    }
  },
  "cells": [
    {
      "cell_type": "markdown",
      "source": [
        "Defining Null and Alternative Hypothesis\n",
        "\n",
        "H0: The weekly operating cost is $4,000 according to the theoretical model.\n",
        "\n",
        "H1: The weekly operating cost is greater than $4,000 according to the restaurant owners' claim."
      ],
      "metadata": {
        "id": "c-1edIdpIDGT"
      }
    },
    {
      "cell_type": "markdown",
      "source": [
        "Identifing the type of Test\n",
        "\n",
        "Sample mean = 3050\n",
        "\n",
        "Therotical mean = 4000\n",
        "\n",
        "Standard deviation = 125\n",
        "\n",
        "sample size = 25"
      ],
      "metadata": {
        "id": "F5-0nSWjI1MC"
      }
    },
    {
      "cell_type": "code",
      "source": [
        "import pandas as pd\n",
        "import numpy as np\n",
        "from scipy import stats"
      ],
      "metadata": {
        "id": "2xcbLwAfJ5l0"
      },
      "execution_count": null,
      "outputs": []
    },
    {
      "cell_type": "code",
      "source": [
        "# Calculating t value\n",
        "\n",
        "t =(3050-4000)/(125/np.sqrt(25))\n",
        "t"
      ],
      "metadata": {
        "colab": {
          "base_uri": "https://localhost:8080/"
        },
        "id": "AgWkjl_LLVkR",
        "outputId": "0c34cc09-ffdd-47bb-d094-f507b954fae3"
      },
      "execution_count": null,
      "outputs": [
        {
          "output_type": "execute_result",
          "data": {
            "text/plain": [
              "-38.0"
            ]
          },
          "metadata": {},
          "execution_count": 2
        }
      ]
    },
    {
      "cell_type": "code",
      "source": [
        "# calculating P value\n",
        "\n",
        "p = 1-stats.t.cdf(-38.0,24)\n",
        "p"
      ],
      "metadata": {
        "colab": {
          "base_uri": "https://localhost:8080/"
        },
        "id": "L4AkL5VBMBK0",
        "outputId": "59f11144-0e60-4302-902c-32f4c4a78f78"
      },
      "execution_count": null,
      "outputs": [
        {
          "output_type": "execute_result",
          "data": {
            "text/plain": [
              "1.0"
            ]
          },
          "metadata": {},
          "execution_count": 4
        }
      ]
    },
    {
      "cell_type": "code",
      "source": [
        "a=0.05\n",
        "if (p<a):\n",
        "  print(\"Reject H0: The weekly operating cost is $4,000 according to the theoretical model.\")\n",
        "else:\n",
        "  print(\"Accept H1: The weekly operating cost is greater than $4,000 according to the restaurant owners' claim.\")"
      ],
      "metadata": {
        "colab": {
          "base_uri": "https://localhost:8080/"
        },
        "id": "9SIRsKXt5flS",
        "outputId": "b5096743-ade2-42d0-99ca-c02fa665c51f"
      },
      "execution_count": null,
      "outputs": [
        {
          "output_type": "stream",
          "name": "stdout",
          "text": [
            "Accept H1: The weekly operating cost is greater than $4,000 according to the restaurant owners' claim.\n"
          ]
        }
      ]
    },
    {
      "cell_type": "markdown",
      "source": [
        "p = 1.0\n",
        "\n",
        "alpha = 0.05\n",
        "\n",
        "if p<alpha , then reject H0\n",
        "\n",
        "as, p is greater then alpha , so accept H1\n",
        "\n",
        "Conclusion: The weekly operating cost is greater than $4,000 according to the restaurant owners' claim.\n",
        "\n"
      ],
      "metadata": {
        "id": "dcc21pRBNAxU"
      }
    }
  ]
}