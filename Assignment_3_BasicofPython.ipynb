{
  "nbformat": 4,
  "nbformat_minor": 0,
  "metadata": {
    "colab": {
      "provenance": []
    },
    "kernelspec": {
      "name": "python3",
      "display_name": "Python 3"
    },
    "language_info": {
      "name": "python"
    }
  },
  "cells": [
    {
      "cell_type": "markdown",
      "source": [
        "Exercise 1: Prime Numbers"
      ],
      "metadata": {
        "id": "9PB1RXXcXG0p"
      }
    },
    {
      "cell_type": "code",
      "source": [
        "n = int(input(\"Enter the Number: \"))\n",
        "for i in range(2,n):\n",
        "  if (n%i)==0:\n",
        "    print(\"Number is not prime\")\n",
        "    break\n",
        "  else:\n",
        "    print(\"Number is prime\")\n",
        "    break"
      ],
      "metadata": {
        "colab": {
          "base_uri": "https://localhost:8080/"
        },
        "id": "kGMYWgoxXH1h",
        "outputId": "5d9e2385-31a1-40d6-cbe9-e368fa6155f0"
      },
      "execution_count": null,
      "outputs": [
        {
          "output_type": "stream",
          "name": "stdout",
          "text": [
            "Enter the Number: 3\n",
            "Number is prime\n"
          ]
        }
      ]
    },
    {
      "cell_type": "markdown",
      "source": [
        "Exercise 2: Product of Random Numbers"
      ],
      "metadata": {
        "id": "2thO6weJYjxB"
      }
    },
    {
      "cell_type": "code",
      "source": [
        "n1 = int(input(\"Enter the First Number: \"))\n",
        "n2 = int(input(\"Enter the Second Number: \"))\n",
        "s = n1*n2\n",
        "print(\"Answer is correct\",s)"
      ],
      "metadata": {
        "colab": {
          "base_uri": "https://localhost:8080/"
        },
        "id": "6svjFf55Yp1v",
        "outputId": "cf1b04e4-966f-4e58-f04c-d488646426ec"
      },
      "execution_count": null,
      "outputs": [
        {
          "output_type": "stream",
          "name": "stdout",
          "text": [
            "Enter the First Number: 2\n",
            "Enter the Second Number: 5\n",
            "Answer is correct 10\n"
          ]
        }
      ]
    },
    {
      "cell_type": "markdown",
      "source": [
        "Exercise 3: Squares of Even/Odd Numbers"
      ],
      "metadata": {
        "id": "6BYJoXhwa1EK"
      }
    },
    {
      "cell_type": "code",
      "source": [
        "for n in range(100,200):\n",
        "  if (n%2)==0:\n",
        "    s = n**2\n",
        "    print(f\"The square of {n} is {s}\")"
      ],
      "metadata": {
        "colab": {
          "base_uri": "https://localhost:8080/"
        },
        "id": "Qn9POLcza9_g",
        "outputId": "7a9cca5b-1ab1-49c1-922a-9c3af1d8d74c"
      },
      "execution_count": null,
      "outputs": [
        {
          "output_type": "stream",
          "name": "stdout",
          "text": [
            "The square of 100 is 10000\n",
            "The square of 102 is 10404\n",
            "The square of 104 is 10816\n",
            "The square of 106 is 11236\n",
            "The square of 108 is 11664\n",
            "The square of 110 is 12100\n",
            "The square of 112 is 12544\n",
            "The square of 114 is 12996\n",
            "The square of 116 is 13456\n",
            "The square of 118 is 13924\n",
            "The square of 120 is 14400\n",
            "The square of 122 is 14884\n",
            "The square of 124 is 15376\n",
            "The square of 126 is 15876\n",
            "The square of 128 is 16384\n",
            "The square of 130 is 16900\n",
            "The square of 132 is 17424\n",
            "The square of 134 is 17956\n",
            "The square of 136 is 18496\n",
            "The square of 138 is 19044\n",
            "The square of 140 is 19600\n",
            "The square of 142 is 20164\n",
            "The square of 144 is 20736\n",
            "The square of 146 is 21316\n",
            "The square of 148 is 21904\n",
            "The square of 150 is 22500\n",
            "The square of 152 is 23104\n",
            "The square of 154 is 23716\n",
            "The square of 156 is 24336\n",
            "The square of 158 is 24964\n",
            "The square of 160 is 25600\n",
            "The square of 162 is 26244\n",
            "The square of 164 is 26896\n",
            "The square of 166 is 27556\n",
            "The square of 168 is 28224\n",
            "The square of 170 is 28900\n",
            "The square of 172 is 29584\n",
            "The square of 174 is 30276\n",
            "The square of 176 is 30976\n",
            "The square of 178 is 31684\n",
            "The square of 180 is 32400\n",
            "The square of 182 is 33124\n",
            "The square of 184 is 33856\n",
            "The square of 186 is 34596\n",
            "The square of 188 is 35344\n",
            "The square of 190 is 36100\n",
            "The square of 192 is 36864\n",
            "The square of 194 is 37636\n",
            "The square of 196 is 38416\n",
            "The square of 198 is 39204\n"
          ]
        }
      ]
    },
    {
      "cell_type": "markdown",
      "source": [
        "Exercise 4: Word counter"
      ],
      "metadata": {
        "id": "W53AwE8neYu_"
      }
    },
    {
      "cell_type": "code",
      "source": [
        "def word_count(str):\n",
        "    counts = dict()\n",
        "    words = str.split()\n",
        "    for word in words:\n",
        "       if word in counts:\n",
        "            counts[word] += 1\n",
        "       else:\n",
        "            counts[word] = 1\n",
        "    return counts\n",
        "\n",
        "print( word_count(\"This is a sample text. This text will be used to demonstrate the word counter.\"))"
      ],
      "metadata": {
        "colab": {
          "base_uri": "https://localhost:8080/"
        },
        "id": "QIIvvNIiefAK",
        "outputId": "33f59da9-5314-45a8-ff49-8e83b4493aa3"
      },
      "execution_count": null,
      "outputs": [
        {
          "output_type": "stream",
          "name": "stdout",
          "text": [
            "{'This': 2, 'is': 1, 'a': 1, 'sample': 1, 'text.': 1, 'text': 1, 'will': 1, 'be': 1, 'used': 1, 'to': 1, 'demonstrate': 1, 'the': 1, 'word': 1, 'counter.': 1}\n"
          ]
        }
      ]
    },
    {
      "cell_type": "markdown",
      "source": [
        "Exercise 5: Check for Palindrome"
      ],
      "metadata": {
        "id": "-W8W6qcJjcOr"
      }
    },
    {
      "cell_type": "code",
      "source": [
        "def is_palindrome(racecar):\n",
        "  if racecar == racecar[::-1]:\n",
        "    return True\n",
        "  else:\n",
        "    return False\n",
        "print(is_palindrome(\"racecar\"))"
      ],
      "metadata": {
        "colab": {
          "base_uri": "https://localhost:8080/"
        },
        "id": "iEEvaaVJjefn",
        "outputId": "e3d60365-29e8-42df-9741-d0d6c5eac157"
      },
      "execution_count": null,
      "outputs": [
        {
          "output_type": "stream",
          "name": "stdout",
          "text": [
            "True\n"
          ]
        }
      ]
    }
  ]
}